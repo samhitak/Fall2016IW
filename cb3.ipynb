{
 "cells": [
  {
   "cell_type": "code",
   "execution_count": 1,
   "metadata": {
    "collapsed": true
   },
   "outputs": [],
   "source": [
    "%matplotlib inline\n",
    "\n",
    "import os\n",
    "import csv\n",
    "import pandas as pd\n",
    "import numpy as np\n",
    "import matplotlib.pyplot as plt\n",
    "import networkx as nx"
   ]
  },
  {
   "cell_type": "code",
   "execution_count": 2,
   "metadata": {
    "collapsed": false
   },
   "outputs": [
    {
     "name": "stdout",
     "output_type": "stream",
     "text": [
      "482511\n",
      "['company_name', 'primary_role', 'domain', 'homepage_url', 'country_code', 'state_code', 'region', 'city', 'zipcode', 'address', 'status', 'short_description', 'category_list', 'category_group_list', 'funding_rounds', 'funding_total_usd', 'founded_on', 'first_funding_on', 'last_funding_on', 'closed_on', 'employee_count', 'email', 'phone', 'facebook_url', 'linkedin_url', 'cb_url', 'logo_url', 'profile_image_url', 'twitter_url', 'uuid', 'created_at', 'updated_at']\n"
     ]
    }
   ],
   "source": [
    "orgs = pd.read_csv('csv_export/organizations.csv', low_memory=False)\n",
    "print(len(orgs))\n",
    "print(list(orgs.columns.values))"
   ]
  },
  {
   "cell_type": "code",
   "execution_count": 3,
   "metadata": {
    "collapsed": false
   },
   "outputs": [
    {
     "name": "stdout",
     "output_type": "stream",
     "text": [
      "company     437888\n",
      "investor     23994\n",
      "school       14351\n",
      "group         6260\n",
      "Investor        13\n",
      "Name: primary_role, dtype: int64\n"
     ]
    }
   ],
   "source": [
    "org_types = orgs['primary_role'].value_counts()\n",
    "print(org_types)"
   ]
  },
  {
   "cell_type": "code",
   "execution_count": 4,
   "metadata": {
    "collapsed": false
   },
   "outputs": [
    {
     "name": "stdout",
     "output_type": "stream",
     "text": [
      "437888\n",
      "24007\n"
     ]
    }
   ],
   "source": [
    "comps = orgs.loc[orgs['primary_role'] == 'company']\n",
    "print (len(comps))\n",
    "invs = orgs.loc[(orgs['primary_role'] == 'investor') | (orgs['primary_role'] == 'Investor')]\n",
    "print (len(invs))"
   ]
  },
  {
   "cell_type": "code",
   "execution_count": 5,
   "metadata": {
    "collapsed": false
   },
   "outputs": [
    {
     "name": "stdout",
     "output_type": "stream",
     "text": [
      "                company_name primary_role             domain  \\\n",
      "0                    MindHub      company       mind-hub.com   \n",
      "1                      Intel      company          intel.com   \n",
      "2                  Intercomp      company                NaN   \n",
      "3                     Mitrol      company         mitrol.net   \n",
      "4                  Microsoft      company      microsoft.com   \n",
      "6   Toyota Motor Corporation      company  toyota-global.com   \n",
      "7                       Ikro      company        ikro.com.br   \n",
      "8            Electronic Arts      company             ea.com   \n",
      "10         Laboratórios Noli      company                NaN   \n",
      "11         Linear Technology      company         linear.com   \n",
      "\n",
      "                    homepage_url country_code state_code        region  \\\n",
      "0        http://www.mind-hub.com          MEX        NaN       Tijuana   \n",
      "1          http://www.intel.com/          USA         CA   SF Bay Area   \n",
      "2                            NaN          NaN        NaN           NaN   \n",
      "3          http://www.mitrol.net          CRI        NaN   CRI - Other   \n",
      "4       http://www.microsoft.com          USA         WA       Seattle   \n",
      "6   http://www.toyota-global.com          JPN        NaN           NaN   \n",
      "7       https://www.ikro.com.br/          BRA        NaN   BRA - Other   \n",
      "8              http://www.ea.com          USA         CA   SF Bay Area   \n",
      "10                           NaN          BRA        NaN  Porto Alegre   \n",
      "11             http://linear.com          USA         CA   SF Bay Area   \n",
      "\n",
      "            city     zipcode  \\\n",
      "0        Tijuana       22015   \n",
      "1    Santa Clara       95054   \n",
      "2            NaN         NaN   \n",
      "3      Argentina         NaN   \n",
      "4        Redmond         NaN   \n",
      "6            NaN    471-8571   \n",
      "7         Canoas         NaN   \n",
      "8   Redwood City       94065   \n",
      "10  Porto Alegre         NaN   \n",
      "11      Milpitas  95035-7417   \n",
      "\n",
      "                                              address  \\\n",
      "0                                     Rio Suchiate 13   \n",
      "1                           2200 Mission College Blvd   \n",
      "2                                                 NaN   \n",
      "3   Francisco Beiró 2335, 1419 Ciudad De Buenos Aires   \n",
      "4                                     1 Microsoft Way   \n",
      "6                                          Toyota-cho   \n",
      "7   Rua Lauro Muller, 110, São José Rio Grande do Sul   \n",
      "8                          209 Redwood Shores Parkway   \n",
      "10                                                NaN   \n",
      "11                     1630 McCarthy Blvd.,, Milpitas   \n",
      "\n",
      "               ...                       phone  \\\n",
      "0              ...               (619)900-1164   \n",
      "1              ...                         NaN   \n",
      "2              ...                         NaN   \n",
      "3              ...                         NaN   \n",
      "4              ...                         NaN   \n",
      "6              ...              81-565-28-2121   \n",
      "7              ...                         NaN   \n",
      "8              ...                         NaN   \n",
      "10             ...                         NaN   \n",
      "11             ...                408-432-1900   \n",
      "\n",
      "                                         facebook_url  \\\n",
      "0                  https://www.facebook.com/mindhubmx   \n",
      "1                      https://www.facebook.com/intel   \n",
      "2                                                 NaN   \n",
      "3                                                 NaN   \n",
      "4              http://www.facebook.com/microsoftindia   \n",
      "6       http://www.facebook.com/toyotaspecialshowroom   \n",
      "7   http://www.facebook.com/pages/ikro-componentes...   \n",
      "8                          http://www.facebook.com/ea   \n",
      "10                                                NaN   \n",
      "11  http://www.facebook.com/lineartechnologycorpor...   \n",
      "\n",
      "                                         linkedin_url  \\\n",
      "0            https://www.linkedin.com/company/2572358   \n",
      "1   https://www.linkedin.com/company/intel-corpora...   \n",
      "2                                                 NaN   \n",
      "3                                                 NaN   \n",
      "4           http://www.linkedin.com/company/microsoft   \n",
      "6       http://www.linkedin.com/company/toyota-global   \n",
      "7                                                 NaN   \n",
      "8                http://www.linkedin.com/company/1449   \n",
      "10                                                NaN   \n",
      "11                                                NaN   \n",
      "\n",
      "                                               cb_url  \\\n",
      "0     https://www.crunchbase.com/organization/mindhub   \n",
      "1       https://www.crunchbase.com/organization/intel   \n",
      "2   https://www.crunchbase.com/organization/intercomp   \n",
      "3    https://www.crunchbase.com/organization/mitrol-2   \n",
      "4   https://www.crunchbase.com/organization/microsoft   \n",
      "6      https://www.crunchbase.com/organization/toyota   \n",
      "7        https://www.crunchbase.com/organization/ikro   \n",
      "8   https://www.crunchbase.com/organization/electr...   \n",
      "10  https://www.crunchbase.com/organization/labora...   \n",
      "11  https://www.crunchbase.com/organization/linear...   \n",
      "\n",
      "                                             logo_url  \\\n",
      "0   https://www.crunchbase.com/organization/mindhu...   \n",
      "1   https://www.crunchbase.com/organization/intel/...   \n",
      "2   https://www.crunchbase.com/organization/interc...   \n",
      "3   https://www.crunchbase.com/organization/mitrol...   \n",
      "4   https://www.crunchbase.com/organization/micros...   \n",
      "6   https://www.crunchbase.com/organization/toyota...   \n",
      "7   https://www.crunchbase.com/organization/ikro/p...   \n",
      "8   https://www.crunchbase.com/organization/electr...   \n",
      "10                                                NaN   \n",
      "11  https://www.crunchbase.com/organization/linear...   \n",
      "\n",
      "                                    profile_image_url  \\\n",
      "0   http://public.crunchbase.com/t_api_images/v139...   \n",
      "1   http://public.crunchbase.com/t_api_images/v139...   \n",
      "2   http://public.crunchbase.com/t_api_images/v143...   \n",
      "3   http://public.crunchbase.com/t_api_images/v144...   \n",
      "4   http://public.crunchbase.com/t_api_images/v139...   \n",
      "6   http://public.crunchbase.com/t_api_images/v139...   \n",
      "7   http://public.crunchbase.com/t_api_images/v139...   \n",
      "8   http://public.crunchbase.com/t_api_images/v147...   \n",
      "10                                                NaN   \n",
      "11  http://public.crunchbase.com/t_api_images/v139...   \n",
      "\n",
      "                           twitter_url                                  uuid  \\\n",
      "0    https://www.twitter.com/mindhubmx  32f99e59-c592-250e-c2b5-98467b46e9ff   \n",
      "1        https://www.twitter.com/intel  1e4f199c-363b-451b-a164-f94571075ee5   \n",
      "2                                  NaN  6681b1b0-0cea-6a4a-820d-60b15793fa66   \n",
      "3                                  NaN  9c429e96-79a0-c199-f394-678a1deba82f   \n",
      "4    https://www.twitter.com/microsoft  fd80725f-53fc-7009-9878-aeecf1e9ffbb   \n",
      "6       https://www.twitter.com/toyota  12b90373-ab49-a56a-4b4e-c7b3e9236faf   \n",
      "7    https://www.twitter.com/ikropecas  322eee3f-a036-651f-5754-0f8759374699   \n",
      "8           https://www.twitter.com/ea  5a6207e2-b868-9f41-5178-8d51d2c40a93   \n",
      "10                                 NaN  e378c0e6-278b-6243-6776-c61fdbcdc004   \n",
      "11  https://www.twitter.com/lineartech  27bb6fe7-0a5d-01c6-30af-55bd8e94c8e6   \n",
      "\n",
      "                    created_at                  updated_at  \n",
      "0          2012-09-11 06:39:42  2016-11-03 17:29:29.967183  \n",
      "1          2008-02-06 06:28:14  2016-11-11 08:35:17.807647  \n",
      "2          2015-07-26 19:09:56  2016-04-08 11:25:07.847158  \n",
      "3   2015-10-30 16:27:51.529548  2016-09-09 01:22:33.789429  \n",
      "4          2014-05-12 12:00:58  2016-11-11 08:25:21.273755  \n",
      "6          2008-09-23 05:00:26  2016-11-11 00:12:04.750554  \n",
      "7          2014-05-03 04:52:21   2016-08-04 02:36:08.42263  \n",
      "8          2007-09-04 19:22:20  2016-11-10 23:59:15.825455  \n",
      "10         2014-05-03 05:13:11  2016-03-08 00:44:34.331526  \n",
      "11         2013-05-01 18:31:26  2016-11-04 20:28:07.662026  \n",
      "\n",
      "[10 rows x 32 columns]\n"
     ]
    }
   ],
   "source": [
    "comps_labeled = comps[pd.notnull(comps['category_group_list']) | pd.notnull(comps['category_list'])]\n",
    "print (comps_labeled.head(n=10))"
   ]
  },
  {
   "cell_type": "code",
   "execution_count": 51,
   "metadata": {
    "collapsed": false
   },
   "outputs": [
    {
     "name": "stdout",
     "output_type": "stream",
     "text": [
      "  company_name     status                                      category_list  \\\n",
      "0      MindHub  operating                                automotive|software   \n",
      "1        Intel        ipo      hardware|manufacturing|semiconductor|software   \n",
      "2    Intercomp  operating                                  hardware|software   \n",
      "3       Mitrol  operating                                      manufacturing   \n",
      "4    Microsoft        ipo  cloud computing|developer tools|operating syst...   \n",
      "\n",
      "                                 category_group_list  funding_rounds  \\\n",
      "0                            software|transportation               1   \n",
      "1  hardware|manufacturing|science and engineering...               1   \n",
      "2                                  hardware|software               1   \n",
      "3                                      manufacturing               1   \n",
      "4               internet services|platforms|software               1   \n",
      "\n",
      "   funding_total_usd                                  uuid  \n",
      "0                NaN  32f99e59-c592-250e-c2b5-98467b46e9ff  \n",
      "1            3000000  1e4f199c-363b-451b-a164-f94571075ee5  \n",
      "2             549000  6681b1b0-0cea-6a4a-820d-60b15793fa66  \n",
      "3            9000000  9c429e96-79a0-c199-f394-678a1deba82f  \n",
      "4            1000000  fd80725f-53fc-7009-9878-aeecf1e9ffbb  \n",
      "256142\n"
     ]
    }
   ],
   "source": [
    "comps_final = comps_labeled.drop('primary_role', 1)\n",
    "comps_final = comps_final.drop('domain', 1)\n",
    "comps_final = comps_final.drop('homepage_url', 1)\n",
    "comps_final = comps_final.drop('country_code', 1)\n",
    "comps_final = comps_final.drop('state_code', 1)\n",
    "comps_final = comps_final.drop('region', 1)\n",
    "comps_final = comps_final.drop('city', 1)\n",
    "comps_final = comps_final.drop('zipcode', 1)\n",
    "comps_final = comps_final.drop('address', 1)\n",
    "comps_final = comps_final.drop('short_description', 1)\n",
    "comps_final = comps_final.drop('founded_on', 1)\n",
    "comps_final = comps_final.drop('first_funding_on', 1)\n",
    "comps_final = comps_final.drop('last_funding_on', 1)\n",
    "comps_final = comps_final.drop('closed_on', 1)\n",
    "comps_final = comps_final.drop('employee_count', 1)\n",
    "comps_final = comps_final.drop('email', 1)\n",
    "comps_final = comps_final.drop('phone', 1)\n",
    "comps_final = comps_final.drop('facebook_url', 1)\n",
    "comps_final = comps_final.drop('linkedin_url', 1)\n",
    "comps_final = comps_final.drop('cb_url', 1)\n",
    "comps_final = comps_final.drop('logo_url', 1)\n",
    "comps_final = comps_final.drop('profile_image_url', 1)\n",
    "comps_final = comps_final.drop('twitter_url', 1)\n",
    "comps_final = comps_final.drop('created_at', 1)\n",
    "comps_final = comps_final.drop('updated_at', 1)\n",
    "print(comps_final.head(n=5))\n",
    "print(len(comps_final))"
   ]
  },
  {
   "cell_type": "code",
   "execution_count": 72,
   "metadata": {
    "collapsed": false
   },
   "outputs": [],
   "source": [
    "out = open('comps_selectedlabels.csv', 'w')\n",
    "out.write('entity_uuid\\tcompany_name\\tmarketspace\\n')\n",
    "for index in range(0, len(comps_final)):\n",
    "    line_out = comps_final.iloc[index]['uuid'] + '\\t' + comps_final.iloc[index]['company_name']\n",
    "    \n",
    "    category_group_list = str(comps_final.iloc[index]['category_group_list'])\n",
    "    category_list = str(comps_final.iloc[index]['category_list'])\n",
    "    \n",
    "    if (category_group_list == 'NaN'):\n",
    "        categories = category_list\n",
    "    elif (category_list == 'NaN'):\n",
    "        categories = category_group_list\n",
    "    else:\n",
    "        categories = category_list + '|' + category_group_list\n",
    "    categories = categories.replace('hardware|', '')\n",
    "    categories = categories.replace('hardware', '')\n",
    "    categories = categories.replace('|hardware', '')\n",
    "    categories = categories.replace('software|', '')\n",
    "    categories = categories.replace('software', '')\n",
    "    categories = categories.replace('|software', '')\n",
    "    if (len(categories) == 0):\n",
    "        line_out = line_out + '\\t\\n'\n",
    "    else:\n",
    "        marketspace = categories[:categories.find('|')]\n",
    "        line_out = line_out + '\\t' + marketspace + '\\n'\n",
    "    out.write(line_out)\n",
    "out.close()"
   ]
  },
  {
   "cell_type": "code",
   "execution_count": 74,
   "metadata": {
    "collapsed": false
   },
   "outputs": [
    {
     "name": "stdout",
     "output_type": "stream",
     "text": [
      "                            entity_uuid company_name      marketspace\n",
      "0  32f99e59-c592-250e-c2b5-98467b46e9ff      MindHub       automotive\n",
      "1  1e4f199c-363b-451b-a164-f94571075ee5        Intel    manufacturing\n",
      "2  6681b1b0-0cea-6a4a-820d-60b15793fa66    Intercomp              NaN\n",
      "3  9c429e96-79a0-c199-f394-678a1deba82f       Mitrol    manufacturing\n",
      "4  fd80725f-53fc-7009-9878-aeecf1e9ffbb    Microsoft  cloud computing\n"
     ]
    }
   ],
   "source": [
    "comps_selectedlabels = pd.read_csv('comps_selectedlabels.csv', sep='\\t')\n",
    "print (comps_selectedlabels.head(n=5))"
   ]
  },
  {
   "cell_type": "code",
   "execution_count": 75,
   "metadata": {
    "collapsed": false
   },
   "outputs": [
    {
     "name": "stdout",
     "output_type": "stream",
     "text": [
      "                             entity_uuid              company_name  \\\n",
      "0   32f99e59-c592-250e-c2b5-98467b46e9ff                   MindHub   \n",
      "1   1e4f199c-363b-451b-a164-f94571075ee5                     Intel   \n",
      "3   9c429e96-79a0-c199-f394-678a1deba82f                    Mitrol   \n",
      "4   fd80725f-53fc-7009-9878-aeecf1e9ffbb                 Microsoft   \n",
      "5   12b90373-ab49-a56a-4b4e-c7b3e9236faf  Toyota Motor Corporation   \n",
      "6   322eee3f-a036-651f-5754-0f8759374699                      Ikro   \n",
      "7   5a6207e2-b868-9f41-5178-8d51d2c40a93           Electronic Arts   \n",
      "8   e378c0e6-278b-6243-6776-c61fdbcdc004         Laboratórios Noli   \n",
      "9   27bb6fe7-0a5d-01c6-30af-55bd8e94c8e6         Linear Technology   \n",
      "10  66d6d19a-4852-0c21-0098-4080cb90d2ac                   Knoware   \n",
      "\n",
      "        marketspace  \n",
      "0        automotive  \n",
      "1     manufacturing  \n",
      "3     manufacturing  \n",
      "4   cloud computing  \n",
      "5        automotive  \n",
      "6        automotive  \n",
      "7          computer  \n",
      "8           medical  \n",
      "9     manufacturing  \n",
      "10  education games  \n",
      "241878\n"
     ]
    }
   ],
   "source": [
    "comps_final2 = comps_selectedlabels[pd.notnull(comps_selectedlabels['marketspace'])]\n",
    "print (comps_final2.head(n=10))\n",
    "print (len(comps_final2))"
   ]
  },
  {
   "cell_type": "code",
   "execution_count": 79,
   "metadata": {
    "collapsed": false
   },
   "outputs": [
    {
     "name": "stdout",
     "output_type": "stream",
     "text": [
      "                company_name country_code state_code   region     city  \\\n",
      "0          Undercover Colors          USA         NC  Raleigh  Raleigh   \n",
      "1                Agency Core          GBR        NaN   London   London   \n",
      "2                     Algama          FRA        NaN    Paris    Paris   \n",
      "3                     Bayzat          ARE        NaN    Dubai    Dubai   \n",
      "4  Blackmoon Financial Group          RUS        NaN   Moscow   Moscow   \n",
      "\n",
      "                               company_category_list funding_round_type  \\\n",
      "0                Fashion|Lifestyle|Social Innovation            venture   \n",
      "1    Business Intelligence|Cloud Computing|Real Time            venture   \n",
      "2  Biotechnology|Food and Beverage|Food Processin...            venture   \n",
      "3  Banking|Employee Benefits|Insurance|Price Comp...            venture   \n",
      "4                                            FinTech            venture   \n",
      "\n",
      "  funding_round_code announced_on  raised_amount_usd  \\\n",
      "0                NaN   2016-11-11     5500000.000000   \n",
      "1                NaN   2016-11-10                NaN   \n",
      "2                NaN   2016-11-10     3842564.637427   \n",
      "3                  B   2016-11-10     3500000.000000   \n",
      "4                NaN   2016-11-10     2500000.000000   \n",
      "\n",
      "              ...              post_money_valuation_usd post_money_valuation  \\\n",
      "0             ...                                   NaN                  NaN   \n",
      "1             ...                                   NaN                  NaN   \n",
      "2             ...                                   NaN                  NaN   \n",
      "3             ...                                   NaN                  NaN   \n",
      "4             ...                                   NaN                  NaN   \n",
      "\n",
      "   post_money_currency_code  investor_count  \\\n",
      "0                       NaN               0   \n",
      "1                       NaN               2   \n",
      "2                       NaN               1   \n",
      "3                       NaN               1   \n",
      "4                       NaN               3   \n",
      "\n",
      "                             investor_names  \\\n",
      "0                                       NaN   \n",
      "1      Scottish Investment Bank, Par Equity   \n",
      "2                  Lead - Horizons Ventures   \n",
      "3                       Lead - BECO Capital   \n",
      "4  Target Global, A&NN Group, Flint Capital   \n",
      "\n",
      "                                              cb_url  \\\n",
      "0  https://www.crunchbase.com/organization/underc...   \n",
      "1  https://www.crunchbase.com/organization/agency...   \n",
      "2     https://www.crunchbase.com/organization/algama   \n",
      "3     https://www.crunchbase.com/organization/bayzat   \n",
      "4  https://www.crunchbase.com/organization/blackm...   \n",
      "\n",
      "                           company_uuid                    funding_round_uuid  \\\n",
      "0  7fd0b3f2-d1e6-2776-88e4-09319f0c4c17  d683b550-e814-3508-a011-5c52e6f102b5   \n",
      "1  5c602d49-5cde-62e9-2fa0-f204e9254ea0  0977442d-c8a0-a6d3-522d-eb6492a68a19   \n",
      "2  12da7eda-8dda-1e74-0bb1-184b05a0a33b  173a39ef-b3d3-290a-fa5c-2b6a5d00ff5b   \n",
      "3  1a5a154c-f976-9cad-4565-9db29783b4db  6474b0a5-466f-1158-c31d-b30bcabdde32   \n",
      "4  6b79ee28-1bf4-7687-c0d9-2757d5143891  6d481aaf-6cc0-0c42-76ff-123f8dcb0d47   \n",
      "\n",
      "                   created_at                  updated_at  \n",
      "0  2016-06-07 04:23:00.916523  2016-11-11 04:04:29.856796  \n",
      "1  2016-11-10 10:45:04.302911   2016-11-10 15:17:18.27101  \n",
      "2  2016-11-11 04:48:15.655434  2016-11-11 04:50:22.069334  \n",
      "3   2016-11-11 04:23:33.82375  2016-11-11 04:28:27.153056  \n",
      "4  2016-11-10 08:50:53.325636  2016-11-11 03:55:05.256684  \n",
      "\n",
      "[5 rows x 25 columns]\n"
     ]
    }
   ],
   "source": [
    "funding_rounds = pd.read_csv('csv_export/funding_rounds.csv')\n",
    "print (funding_rounds.head(n=5))"
   ]
  },
  {
   "cell_type": "code",
   "execution_count": 77,
   "metadata": {
    "collapsed": false
   },
   "outputs": [
    {
     "name": "stdout",
     "output_type": "stream",
     "text": [
      "                            entity_uuid                             fund_uuid  \\\n",
      "2  b51ff078-c9d9-9f51-681d-4f9ac888e070  35a6f12f-e3ad-1d64-7ac9-a5195ff96d43   \n",
      "3  2ba8d099-c8aa-a375-8d6e-aa01968a6934  96235d28-76a4-97f7-1a56-2f0437290494   \n",
      "4  0322e144-4f6e-5a56-6d4f-5a74cd9a7397  46f8f44e-92ba-06c6-d5dd-430966995221   \n",
      "5  56e40f50-97c7-2a77-255d-1d97d5f30646  0d6eeb32-ebbf-09c5-61f8-2db8f44bcfac   \n",
      "6  4fd5619b-da62-ab8d-281f-1aaa9a7c93d0  ea34eeac-a4b7-56e7-0e77-24666e66eb36   \n",
      "\n",
      "                               fund_name  raised_amount  \\\n",
      "2                   2007 \"Consumer\" Fund      300000000   \n",
      "3                    2010 Jumpstart Fund         120000   \n",
      "4  32 Degrees Diversified Energy Fund II       84600000   \n",
      "5                     500 Startups III-A       26867000   \n",
      "6                  $550M HealthCare Fund      550000000   \n",
      "\n",
      "  raised_amount_currency_code  \n",
      "2                         USD  \n",
      "3                         USD  \n",
      "4                         USD  \n",
      "5                         USD  \n",
      "6                         USD  \n",
      "4672\n"
     ]
    }
   ],
   "source": [
    "funds = pd.read_csv('csv_export/funds.csv')\n",
    "funds = funds.drop('started_on', 1)\n",
    "funds = funds.drop('announced_on', 1)\n",
    "funds = funds.drop('created_at', 1)\n",
    "funds = funds.drop('updated_at', 1)\n",
    "\n",
    "funds = funds[pd.notnull(funds['raised_amount'])]\n",
    "print (funds.head(n=5))\n",
    "print (len(funds))"
   ]
  },
  {
   "cell_type": "code",
   "execution_count": 78,
   "metadata": {
    "collapsed": false
   },
   "outputs": [
    {
     "name": "stdout",
     "output_type": "stream",
     "text": [
      "Altus Capital Partners II\n",
      "Abingworth Bioventures VI\n",
      "2010 Jumpstart Fund\n",
      "Accel XI\n",
      "Artiman Ventures III\n",
      "6492c71a-1216-c6fc-8d59-9d0b8dc3051a\n",
      "AG Energy Partners LP.\n",
      "a2ff789c-af97-0574-bbe6-f707c5766651\n",
      "387bd749-10f5-65c8-a709-8d22766e9066\n",
      "Arborview Capital Partners LP\n",
      "807a98f4-8779-739b-426c-75017cdbe821\n",
      "Atlantic Bridge II\n",
      "AlAdInn Ventures\n",
      "c4f13006-78c4-7cd9-b010-62a6863290f0\n",
      "Australian private equity VI fund\n",
      "Alterna Core Capital Assets Fund II\n",
      "Accelerator Fund\n",
      "ACG Fund II\n",
      "5b78f7ad-93a6-250d-361d-5b8624a2e848\n",
      "Accelerace Invest\n",
      "616f27aa-1250-b0b6-ca70-9e7121cfd57d\n",
      "Azini 3\n",
      "Aster II\n",
      "3f2ccf99-71dd-02cd-2c21-fdc4cc3b3ca7\n",
      "Arcus Ventures Fund I LP\n",
      "aa978289-a0e0-8e2d-9db1-537203f28e62\n",
      "a764fc5b-fc26-ac6c-d14d-632d9124c8b6\n",
      "b603a4a8-a7e7-89b3-a1bb-d2c134abab5c\n",
      "Accel London IV\n",
      "58b62e32-dc64-49e5-ff38-1fd7ad67bc3e\n",
      "Artiman Ventures Fund II\n",
      "5AM Ventures IV, L.P.\n",
      "Angel CoFund\n",
      "45a90b77-9e8f-e5ea-e508-2068c72e90e3\n",
      "5cacb20c-6485-89f4-b78b-81a7d3afb0f6\n",
      "Allos II\n",
      "Annex Fund I\n",
      "f9100321-7ef8-12b5-2a4f-9f885084b095\n",
      "Affinity Equity Partners IV Fund\n",
      "62496db4-97e3-6cd7-808e-76426016c62c\n",
      "17766aa6-2da1-c1eb-d14d-2277ae1f34c7\n",
      "Accel Fund\n",
      "6580c555-b205-0217-a183-4f42ce114765\n",
      "2847a018-6f47-f9cc-4b2b-24015f380306\n",
      "e489ddae-e520-fd17-7f70-1a8298603865\n",
      "585204a4-9f70-1261-d550-585a676d2eb9\n",
      "985d1d30-9137-0dd6-bcf8-f8f88fe82b3b\n",
      "Ampersand 2014 Limited Partnership\n",
      "Ambienta I\n",
      "Armstrong South East Asia Clean Energy Fund\n",
      "Acorn Fund\n",
      "Axxon Brazil Private Equity Fund II\n",
      "Angel Investment Fund\n",
      "African Development Partners II (ADP II)\n",
      "4fd5619b-da62-ab8d-281f-1aaa9a7c93d0\n",
      "600816c3-2896-833f-82d4-f047a6f163bb\n",
      "Amplify Partners I\n",
      "ACF VI\n",
      "ASF V\n",
      "Aequitas Capital Opportunities Fund\n",
      "2c6726be-17da-7394-88e3-88db09c74117\n",
      "Asia Capital Fund I\n",
      "99b48c61-ed8e-f77b-d312-430e1fa94c9d\n",
      "dcc9cfdd-6429-c3e0-ef2b-588687ed6595\n",
      "Bain Capital Fund XI\n",
      "Avallon MBO I fund\n",
      "902deab4-ec41-68ce-d9df-c0c959578176\n",
      "5AM Ventures III\n",
      "5AM Co-Investors III\n",
      "Bain Capital Venture Fund 2012, L.P.\n",
      "Agribusiness & Food Fund\n",
      "Arborview Paragon Investors LP\n",
      "Adelis Equity Partners Fund I\n",
      "84c5275e-2a2f-e43a-1ff1-1a5f7c79975f\n",
      "Ascent Venture Partners V\n",
      "0322e144-4f6e-5a56-6d4f-5a74cd9a7397\n",
      "Aavishkaar II\n",
      "59d60404-83a2-6700-712f-91ad890ff95b\n",
      "Axel Springer\n",
      "August Equity Fund III\n",
      "Advancit Capital fund II\n",
      "c3297d4e-2de6-22d8-ea1c-94481dd6406f\n",
      "Avallon MBO II fund\n",
      "78fdb6ff-8adf-a90a-f588-38c2ebd917b3\n",
      "AppUpSM Fund\n",
      "76c64c78-7066-f7ab-72e8-3ba282be0a06\n",
      "01cdfb22-5041-ae04-c475-82143ee6e709\n",
      "c372c764-2a9b-cfce-cd80-a8282644e4fd\n",
      "768d9c8d-366f-c1a0-1c72-0e923162268f\n",
      "5739ec9c-dbe4-e56b-01d5-e6da101077b5\n",
      "6dbbeb54-b896-e534-7229-f19af927c19d\n",
      "Almaz Capital Fund II\n",
      "AOL Ventures I\n",
      "f12aba9b-0e7d-960b-e4c5-3a2ba8acc0c7\n",
      "Ascension Health Ventures, LLC\n",
      "980fbc6f-74f5-c050-9f2a-6e1ae931ddcd\n",
      "70d20953-95ca-663d-997f-17e5b345995e\n",
      "Armajaro Commodities Fund\n",
      "71b85562-84b5-d160-f989-4881795f5353\n",
      "Atlantic Bridge I\n",
      "AMP Capital Infrastructure Debt Fund II\n",
      "3180fb89-4203-31a7-98a6-d9fc0b880521\n",
      "8d291e85-6765-fedb-72ea-3c42572084e8\n",
      "48a44739-0be2-264f-8e0b-952dbe357a1b\n",
      "be0b97a1-9293-b526-df88-a80d2b255145\n",
      "f3716725-552d-b9b5-59ad-de4ec64b1751\n",
      "ATP Private Equity Partners V\n",
      "5AM Ventures I\n",
      "95c31e49-9d40-09d5-356f-759507bf4f02\n",
      "390fa05e-0677-638b-c0a3-f7d38e5a39b5\n",
      "Actis Energy 3\n",
      "e73c171e-5300-e680-4d73-52afc6a2143d\n",
      "Apollo European Principal Finance Fund II\n",
      "Alsop Louie Capital 2\n",
      "1428184c-3dd3-55df-fd93-27bcbe88a439\n",
      "55d85218-69fc-0338-0c26-43c2bdeeaf0e\n",
      "744d8ae5-c866-799f-98de-957d06945fdd\n",
      "Apax US VII\n",
      "500 Startups III-A\n",
      "ARC Angel Fund\n",
      "02578cd2-7178-fcb6-499a-65d53030579c\n",
      "Accelerator Venture Capital II\n",
      "Accel-KKR Structured Capital Partners II\n",
      "2ba8d099-c8aa-a375-8d6e-aa01968a6934\n",
      "2007 \"Consumer\" Fund\n",
      "Athyrium Opportunities Fund\n",
      "c75400d4-d5ae-2f92-4e99-aee6b9a39a4d\n",
      "5AM Ventures II\n",
      "Angel Fund\n",
      "Auriga IV Bioseeds fund\n",
      "Accel India Fund III\n",
      "792e06a4-3eca-7ffb-2b90-e50cc2ebdf29\n",
      "Africa PE fund I\n",
      "Axiom Asia Private Capital Fund II\n",
      "0e620910-a881-66a2-5e7e-bed5afae7f30\n",
      "ACON Equity Partners III\n",
      "826a923c-a90c-b01d-144d-140a976e7657\n",
      "Accel Growth Fund 3\n",
      "8ba3ba26-6fda-1c28-6013-f59da973b2f2\n",
      "Alven Capital IV\n",
      "Allos I LP\n",
      "32 Degrees Diversified Energy Fund II\n",
      "5808d551-e5da-f0c9-3fce-3168e754234a\n",
      "bd541137-fcf7-072c-5464-9299aecc274b\n",
      "Alpine Heritage II fund\n",
      "Accolade Partners IV\n",
      "530a4269-c3a1-99a6-73e9-1e9d16190ed0\n",
      "c351d390-44f6-d13b-81a3-e4894dce652f\n",
      "Atlas Capital Resources II LP\n",
      "b08efc27-da40-505a-6f9d-c9e14247bf36\n",
      "Accel Growth Fund II\n",
      "Aterian Investment Partners II\n",
      "Activa Capital Fund I\n",
      "56e40f50-97c7-2a77-255d-1d97d5f30646\n",
      "1384bdac-a847-6aa7-f245-3ba6d267c2cf\n",
      "b1bca980-076d-3caa-bd5c-839cc381ebee\n",
      "f6ce7539-de60-622c-c89f-023b10a87a95\n",
      "8b8f1458-c164-0cdf-a94d-465e5d8f3ce4\n",
      "Auda Secondary Fund III L.P.\n",
      "Arborview LRI Investors LP\n",
      "Atomico Ventures III\n",
      "86fbfec4-197f-c29e-36a2-b31d3caac95b\n",
      "5db64f8d-b56c-73eb-2480-bf82a1903aee\n",
      "08fde712-5f5e-15b5-6042-e872b0d400dd\n",
      "Amadeus IV Digital Prosperity Fund.\n",
      "Ares Corporate Opportunities Fund IV\n",
      "97db51a7-ac68-ed99-8988-25d1807bb0d3\n",
      "6584f245-9bac-ea57-bf0c-7ac9438d2511\n",
      "Avalon Ventures X\n",
      "67900f18-eed4-388c-d464-05f1c6af3e02\n",
      "Alchemy Special Opportunities III\n",
      "9dd7066b-069a-9dd9-c211-06db31253bd0\n",
      "Atomico Ventures II\n",
      "dc467289-f54a-6940-09b5-8b8f9a369820\n",
      "Arborview Drexel Investors LP\n",
      "Apax VIII\n",
      "Avenida Colombia Real Estate Fund I\n",
      "b51ff078-c9d9-9f51-681d-4f9ac888e070\n",
      "a024143e-96b0-fe53-7638-192dfc3d5a7d\n",
      "$550M HealthCare Fund\n"
     ]
    }
   ],
   "source": [
    "mf = nx.DiGraph()\n",
    "#for index in range(0, len(funds)):\n",
    "for index in range(0, 100):\n",
    "    node_from = funds.iloc[index]['fund_name']\n",
    "    node_to = funds.iloc[index]['entity_uuid']\n",
    "    edge_weight = funds.iloc[index]['raised_amount']\n",
    "    mf.add_weighted_edges_from([(node_from, node_to, edge_weight)])\n",
    "\n",
    "# add category labels\n",
    "for node in mf.nodes():\n",
    "    print (node)"
   ]
  },
  {
   "cell_type": "code",
   "execution_count": null,
   "metadata": {
    "collapsed": false
   },
   "outputs": [],
   "source": []
  },
  {
   "cell_type": "code",
   "execution_count": null,
   "metadata": {
    "collapsed": true
   },
   "outputs": [],
   "source": [
    "\n",
    "    \n",
    "    \n"
   ]
  },
  {
   "cell_type": "code",
   "execution_count": 41,
   "metadata": {
    "collapsed": false
   },
   "outputs": [
    {
     "data": {
      "image/png": "[encoded data removed]",
      "text/plain": [
       "<matplotlib.figure.Figure at 0x11f0b3f98>"
      ]
     },
     "metadata": {},
     "output_type": "display_data"
    },
    {
     "data": {
      "text/plain": [
       "<matplotlib.figure.Figure at 0x11f0b3080>"
      ]
     },
     "metadata": {},
     "output_type": "display_data"
    }
   ],
   "source": [
    "nx.draw(mf, node_size=15)"
   ]
  },
  {
   "cell_type": "code",
   "execution_count": null,
   "metadata": {
    "collapsed": true
   },
   "outputs": [],
   "source": []
  }
 ],
 "metadata": {
  "kernelspec": {
   "display_name": "Python 3",
   "language": "python",
   "name": "python3"
  },
  "language_info": {
   "codemirror_mode": {
    "name": "ipython",
    "version": 3
   },
   "file_extension": ".py",
   "mimetype": "text/x-python",
   "name": "python",
   "nbconvert_exporter": "python",
   "pygments_lexer": "ipython3",
   "version": "3.5.1"
  }
 },
 "nbformat": 4,
 "nbformat_minor": 0
}
