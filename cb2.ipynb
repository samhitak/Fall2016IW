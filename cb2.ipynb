{
 "cells": [
  {
   "cell_type": "code",
   "execution_count": 2,
   "metadata": {
    "collapsed": true
   },
   "outputs": [],
   "source": [
    "%matplotlib inline\n",
    "\n",
    "import os\n",
    "import csv\n",
    "import pandas as pd\n",
    "import numpy as np\n",
    "import matplotlib.pyplot as plt\n",
    "import networkx as nx"
   ]
  },
  {
   "cell_type": "code",
   "execution_count": 3,
   "metadata": {
    "collapsed": false
   },
   "outputs": [
    {
     "name": "stdout",
     "output_type": "stream",
     "text": [
      "482511\n",
      "['company_name', 'primary_role', 'domain', 'homepage_url', 'country_code', 'state_code', 'region', 'city', 'zipcode', 'address', 'status', 'short_description', 'category_list', 'category_group_list', 'funding_rounds', 'funding_total_usd', 'founded_on', 'first_funding_on', 'last_funding_on', 'closed_on', 'employee_count', 'email', 'phone', 'facebook_url', 'linkedin_url', 'cb_url', 'logo_url', 'profile_image_url', 'twitter_url', 'uuid', 'created_at', 'updated_at']\n"
     ]
    }
   ],
   "source": [
    "orgs = pd.read_csv('csv_export/organizations.csv', low_memory=False)\n",
    "print(len(orgs))\n",
    "print(list(orgs.columns.values))"
   ]
  },
  {
   "cell_type": "code",
   "execution_count": 4,
   "metadata": {
    "collapsed": false
   },
   "outputs": [
    {
     "name": "stdout",
     "output_type": "stream",
     "text": [
      "company     437888\n",
      "investor     23994\n",
      "school       14351\n",
      "group         6260\n",
      "Investor        13\n",
      "Name: primary_role, dtype: int64\n"
     ]
    }
   ],
   "source": [
    "org_types = orgs['primary_role'].value_counts()\n",
    "print(org_types)"
   ]
  },
  {
   "cell_type": "code",
   "execution_count": 5,
   "metadata": {
    "collapsed": false
   },
   "outputs": [
    {
     "name": "stdout",
     "output_type": "stream",
     "text": [
      "437888\n",
      "24007\n"
     ]
    }
   ],
   "source": [
    "comps = orgs.loc[orgs['primary_role'] == 'company']\n",
    "print (len(comps))\n",
    "invs = orgs.loc[(orgs['primary_role'] == 'investor') | (orgs['primary_role'] == 'Investor')]\n",
    "print (len(invs))"
   ]
  },
  {
   "cell_type": "code",
   "execution_count": 6,
   "metadata": {
    "collapsed": false
   },
   "outputs": [
    {
     "name": "stdout",
     "output_type": "stream",
     "text": [
      "                company_name primary_role             domain  \\\n",
      "0                    MindHub      company       mind-hub.com   \n",
      "1                      Intel      company          intel.com   \n",
      "2                  Intercomp      company                NaN   \n",
      "3                     Mitrol      company         mitrol.net   \n",
      "4                  Microsoft      company      microsoft.com   \n",
      "6   Toyota Motor Corporation      company  toyota-global.com   \n",
      "7                       Ikro      company        ikro.com.br   \n",
      "8            Electronic Arts      company             ea.com   \n",
      "10         Laboratórios Noli      company                NaN   \n",
      "11         Linear Technology      company         linear.com   \n",
      "\n",
      "                    homepage_url country_code state_code        region  \\\n",
      "0        http://www.mind-hub.com          MEX        NaN       Tijuana   \n",
      "1          http://www.intel.com/          USA         CA   SF Bay Area   \n",
      "2                            NaN          NaN        NaN           NaN   \n",
      "3          http://www.mitrol.net          CRI        NaN   CRI - Other   \n",
      "4       http://www.microsoft.com          USA         WA       Seattle   \n",
      "6   http://www.toyota-global.com          JPN        NaN           NaN   \n",
      "7       https://www.ikro.com.br/          BRA        NaN   BRA - Other   \n",
      "8              http://www.ea.com          USA         CA   SF Bay Area   \n",
      "10                           NaN          BRA        NaN  Porto Alegre   \n",
      "11             http://linear.com          USA         CA   SF Bay Area   \n",
      "\n",
      "            city     zipcode  \\\n",
      "0        Tijuana       22015   \n",
      "1    Santa Clara       95054   \n",
      "2            NaN         NaN   \n",
      "3      Argentina         NaN   \n",
      "4        Redmond         NaN   \n",
      "6            NaN    471-8571   \n",
      "7         Canoas         NaN   \n",
      "8   Redwood City       94065   \n",
      "10  Porto Alegre         NaN   \n",
      "11      Milpitas  95035-7417   \n",
      "\n",
      "                                              address  \\\n",
      "0                                     Rio Suchiate 13   \n",
      "1                           2200 Mission College Blvd   \n",
      "2                                                 NaN   \n",
      "3   Francisco Beiró 2335, 1419 Ciudad De Buenos Aires   \n",
      "4                                     1 Microsoft Way   \n",
      "6                                          Toyota-cho   \n",
      "7   Rua Lauro Muller, 110, São José Rio Grande do Sul   \n",
      "8                          209 Redwood Shores Parkway   \n",
      "10                                                NaN   \n",
      "11                     1630 McCarthy Blvd.,, Milpitas   \n",
      "\n",
      "               ...                       phone  \\\n",
      "0              ...               (619)900-1164   \n",
      "1              ...                         NaN   \n",
      "2              ...                         NaN   \n",
      "3              ...                         NaN   \n",
      "4              ...                         NaN   \n",
      "6              ...              81-565-28-2121   \n",
      "7              ...                         NaN   \n",
      "8              ...                         NaN   \n",
      "10             ...                         NaN   \n",
      "11             ...                408-432-1900   \n",
      "\n",
      "                                         facebook_url  \\\n",
      "0                  https://www.facebook.com/mindhubmx   \n",
      "1                      https://www.facebook.com/intel   \n",
      "2                                                 NaN   \n",
      "3                                                 NaN   \n",
      "4              http://www.facebook.com/microsoftindia   \n",
      "6       http://www.facebook.com/toyotaspecialshowroom   \n",
      "7   http://www.facebook.com/pages/ikro-componentes...   \n",
      "8                          http://www.facebook.com/ea   \n",
      "10                                                NaN   \n",
      "11  http://www.facebook.com/lineartechnologycorpor...   \n",
      "\n",
      "                                         linkedin_url  \\\n",
      "0            https://www.linkedin.com/company/2572358   \n",
      "1   https://www.linkedin.com/company/intel-corpora...   \n",
      "2                                                 NaN   \n",
      "3                                                 NaN   \n",
      "4           http://www.linkedin.com/company/microsoft   \n",
      "6       http://www.linkedin.com/company/toyota-global   \n",
      "7                                                 NaN   \n",
      "8                http://www.linkedin.com/company/1449   \n",
      "10                                                NaN   \n",
      "11                                                NaN   \n",
      "\n",
      "                                               cb_url  \\\n",
      "0     https://www.crunchbase.com/organization/mindhub   \n",
      "1       https://www.crunchbase.com/organization/intel   \n",
      "2   https://www.crunchbase.com/organization/intercomp   \n",
      "3    https://www.crunchbase.com/organization/mitrol-2   \n",
      "4   https://www.crunchbase.com/organization/microsoft   \n",
      "6      https://www.crunchbase.com/organization/toyota   \n",
      "7        https://www.crunchbase.com/organization/ikro   \n",
      "8   https://www.crunchbase.com/organization/electr...   \n",
      "10  https://www.crunchbase.com/organization/labora...   \n",
      "11  https://www.crunchbase.com/organization/linear...   \n",
      "\n",
      "                                             logo_url  \\\n",
      "0   https://www.crunchbase.com/organization/mindhu...   \n",
      "1   https://www.crunchbase.com/organization/intel/...   \n",
      "2   https://www.crunchbase.com/organization/interc...   \n",
      "3   https://www.crunchbase.com/organization/mitrol...   \n",
      "4   https://www.crunchbase.com/organization/micros...   \n",
      "6   https://www.crunchbase.com/organization/toyota...   \n",
      "7   https://www.crunchbase.com/organization/ikro/p...   \n",
      "8   https://www.crunchbase.com/organization/electr...   \n",
      "10                                                NaN   \n",
      "11  https://www.crunchbase.com/organization/linear...   \n",
      "\n",
      "                                    profile_image_url  \\\n",
      "0   http://public.crunchbase.com/t_api_images/v139...   \n",
      "1   http://public.crunchbase.com/t_api_images/v139...   \n",
      "2   http://public.crunchbase.com/t_api_images/v143...   \n",
      "3   http://public.crunchbase.com/t_api_images/v144...   \n",
      "4   http://public.crunchbase.com/t_api_images/v139...   \n",
      "6   http://public.crunchbase.com/t_api_images/v139...   \n",
      "7   http://public.crunchbase.com/t_api_images/v139...   \n",
      "8   http://public.crunchbase.com/t_api_images/v147...   \n",
      "10                                                NaN   \n",
      "11  http://public.crunchbase.com/t_api_images/v139...   \n",
      "\n",
      "                           twitter_url                                  uuid  \\\n",
      "0    https://www.twitter.com/mindhubmx  32f99e59-c592-250e-c2b5-98467b46e9ff   \n",
      "1        https://www.twitter.com/intel  1e4f199c-363b-451b-a164-f94571075ee5   \n",
      "2                                  NaN  6681b1b0-0cea-6a4a-820d-60b15793fa66   \n",
      "3                                  NaN  9c429e96-79a0-c199-f394-678a1deba82f   \n",
      "4    https://www.twitter.com/microsoft  fd80725f-53fc-7009-9878-aeecf1e9ffbb   \n",
      "6       https://www.twitter.com/toyota  12b90373-ab49-a56a-4b4e-c7b3e9236faf   \n",
      "7    https://www.twitter.com/ikropecas  322eee3f-a036-651f-5754-0f8759374699   \n",
      "8           https://www.twitter.com/ea  5a6207e2-b868-9f41-5178-8d51d2c40a93   \n",
      "10                                 NaN  e378c0e6-278b-6243-6776-c61fdbcdc004   \n",
      "11  https://www.twitter.com/lineartech  27bb6fe7-0a5d-01c6-30af-55bd8e94c8e6   \n",
      "\n",
      "                    created_at                  updated_at  \n",
      "0          2012-09-11 06:39:42  2016-11-03 17:29:29.967183  \n",
      "1          2008-02-06 06:28:14  2016-11-11 08:35:17.807647  \n",
      "2          2015-07-26 19:09:56  2016-04-08 11:25:07.847158  \n",
      "3   2015-10-30 16:27:51.529548  2016-09-09 01:22:33.789429  \n",
      "4          2014-05-12 12:00:58  2016-11-11 08:25:21.273755  \n",
      "6          2008-09-23 05:00:26  2016-11-11 00:12:04.750554  \n",
      "7          2014-05-03 04:52:21   2016-08-04 02:36:08.42263  \n",
      "8          2007-09-04 19:22:20  2016-11-10 23:59:15.825455  \n",
      "10         2014-05-03 05:13:11  2016-03-08 00:44:34.331526  \n",
      "11         2013-05-01 18:31:26  2016-11-04 20:28:07.662026  \n",
      "\n",
      "[10 rows x 32 columns]\n"
     ]
    }
   ],
   "source": [
    "comps_labeled = comps[pd.notnull(comps['category_group_list']) | pd.notnull(comps['category_list'])]\n",
    "print (comps_labeled.head(n=10))"
   ]
  },
  {
   "cell_type": "code",
   "execution_count": 7,
   "metadata": {
    "collapsed": false
   },
   "outputs": [
    {
     "name": "stdout",
     "output_type": "stream",
     "text": [
      "                            entity_uuid                             fund_uuid  \\\n",
      "0  c2cd9503-aaec-2d98-b244-011edb7d0f7d  04e6b406-5011-0106-9351-efafd08a0714   \n",
      "1  5a743ec5-6a33-eb26-9e75-ee0611edd311  9e25b489-c9de-8a76-b7dd-4a7ea100fe44   \n",
      "2  b51ff078-c9d9-9f51-681d-4f9ac888e070  35a6f12f-e3ad-1d64-7ac9-a5195ff96d43   \n",
      "3  2ba8d099-c8aa-a375-8d6e-aa01968a6934  96235d28-76a4-97f7-1a56-2f0437290494   \n",
      "4  0322e144-4f6e-5a56-6d4f-5a74cd9a7397  46f8f44e-92ba-06c6-d5dd-430966995221   \n",
      "\n",
      "                               fund_name  started_on announced_on  \\\n",
      "0                                      -  2005-06-09          NaN   \n",
      "1                     137 Ventures I, LP  2011-06-06          NaN   \n",
      "2                   2007 \"Consumer\" Fund  2007-07-09          NaN   \n",
      "3                    2010 Jumpstart Fund  2010-01-01          NaN   \n",
      "4  32 Degrees Diversified Energy Fund II  2013-10-07          NaN   \n",
      "\n",
      "   raised_amount raised_amount_currency_code           created_at  \\\n",
      "0            NaN                         USD  2010-03-15 18:06:29   \n",
      "1            NaN                         USD  2013-12-06 19:26:47   \n",
      "2      300000000                         USD  2009-01-21 03:43:12   \n",
      "3         120000                         USD  2010-05-22 19:57:12   \n",
      "4       84600000                         USD  2013-10-08 11:27:04   \n",
      "\n",
      "            updated_at  \n",
      "0  2014-09-23 17:57:01  \n",
      "1  2014-04-20 12:19:51  \n",
      "2  2014-04-20 12:19:49  \n",
      "3  2014-04-20 12:20:33  \n",
      "4  2014-04-20 12:20:09  \n",
      "5286\n"
     ]
    }
   ],
   "source": [
    "funds = pd.read_csv('csv_export/funds.csv')\n",
    "print(funds.head(n=5))\n",
    "print (len(funds))"
   ]
  },
  {
   "cell_type": "code",
   "execution_count": 44,
   "metadata": {
    "collapsed": false
   },
   "outputs": [],
   "source": [
    "out = open('funds_comps_labeled.csv', 'w')\n",
    "out.write('entity_uuid,fund_uuid,fund_name,started_on,announced_on,raised_amount,raised_amount_currency_code,created_at,updated_at\\n')\n",
    "#for index in range(0,len(funds)):\n",
    "for index in range(0, 1000):\n",
    "    if (funds.loc[index]['entity_uuid'] in comps_labeled['uuid']):\n",
    "        out.write(funds.loc[index:])\n",
    "out.close()"
   ]
  },
  {
   "cell_type": "code",
   "execution_count": 43,
   "metadata": {
    "collapsed": false
   },
   "outputs": [
    {
     "ename": "OSError",
     "evalue": "File b'email_senders.csv' does not exist",
     "output_type": "error",
     "traceback": [
      "\u001b[0;31m---------------------------------------------------------------------------\u001b[0m",
      "\u001b[0;31mOSError\u001b[0m                                   Traceback (most recent call last)",
      "\u001b[0;32m<ipython-input-43-b8ef68b8a4fa>\u001b[0m in \u001b[0;36m<module>\u001b[0;34m()\u001b[0m\n\u001b[1;32m      3\u001b[0m \u001b[0;34m\u001b[0m\u001b[0m\n\u001b[1;32m      4\u001b[0m \u001b[0;34m\u001b[0m\u001b[0m\n\u001b[0;32m----> 5\u001b[0;31m \u001b[0memail_senders\u001b[0m \u001b[0;34m=\u001b[0m \u001b[0mpd\u001b[0m\u001b[0;34m.\u001b[0m\u001b[0mread_csv\u001b[0m\u001b[0;34m(\u001b[0m\u001b[0;34m'email_senders.csv'\u001b[0m\u001b[0;34m,\u001b[0m \u001b[0msep\u001b[0m\u001b[0;34m=\u001b[0m\u001b[0;34m','\u001b[0m\u001b[0;34m)\u001b[0m\u001b[0;34m\u001b[0m\u001b[0m\n\u001b[0m\u001b[1;32m      6\u001b[0m \u001b[0mprint\u001b[0m \u001b[0;34m(\u001b[0m\u001b[0memail_senders\u001b[0m\u001b[0;34m.\u001b[0m\u001b[0mhead\u001b[0m\u001b[0;34m(\u001b[0m\u001b[0mn\u001b[0m\u001b[0;34m=\u001b[0m\u001b[0;36m5\u001b[0m\u001b[0;34m)\u001b[0m\u001b[0;34m)\u001b[0m\u001b[0;34m\u001b[0m\u001b[0m\n\u001b[1;32m      7\u001b[0m \u001b[0mprint\u001b[0m \u001b[0;34m(\u001b[0m\u001b[0mlen\u001b[0m\u001b[0;34m(\u001b[0m\u001b[0memail_senders\u001b[0m\u001b[0;34m)\u001b[0m\u001b[0;34m)\u001b[0m\u001b[0;34m\u001b[0m\u001b[0m\n",
      "\u001b[0;32m/Users/samhita/anaconda/lib/python3.5/site-packages/pandas/io/parsers.py\u001b[0m in \u001b[0;36mparser_f\u001b[0;34m(filepath_or_buffer, sep, dialect, compression, doublequote, escapechar, quotechar, quoting, skipinitialspace, lineterminator, header, index_col, names, prefix, skiprows, skipfooter, skip_footer, na_values, true_values, false_values, delimiter, converters, dtype, usecols, engine, delim_whitespace, as_recarray, na_filter, compact_ints, use_unsigned, low_memory, buffer_lines, warn_bad_lines, error_bad_lines, keep_default_na, thousands, comment, decimal, parse_dates, keep_date_col, dayfirst, date_parser, memory_map, float_precision, nrows, iterator, chunksize, verbose, encoding, squeeze, mangle_dupe_cols, tupleize_cols, infer_datetime_format, skip_blank_lines)\u001b[0m\n\u001b[1;32m    496\u001b[0m                     skip_blank_lines=skip_blank_lines)\n\u001b[1;32m    497\u001b[0m \u001b[0;34m\u001b[0m\u001b[0m\n\u001b[0;32m--> 498\u001b[0;31m         \u001b[0;32mreturn\u001b[0m \u001b[0m_read\u001b[0m\u001b[0;34m(\u001b[0m\u001b[0mfilepath_or_buffer\u001b[0m\u001b[0;34m,\u001b[0m \u001b[0mkwds\u001b[0m\u001b[0;34m)\u001b[0m\u001b[0;34m\u001b[0m\u001b[0m\n\u001b[0m\u001b[1;32m    499\u001b[0m \u001b[0;34m\u001b[0m\u001b[0m\n\u001b[1;32m    500\u001b[0m     \u001b[0mparser_f\u001b[0m\u001b[0;34m.\u001b[0m\u001b[0m__name__\u001b[0m \u001b[0;34m=\u001b[0m \u001b[0mname\u001b[0m\u001b[0;34m\u001b[0m\u001b[0m\n",
      "\u001b[0;32m/Users/samhita/anaconda/lib/python3.5/site-packages/pandas/io/parsers.py\u001b[0m in \u001b[0;36m_read\u001b[0;34m(filepath_or_buffer, kwds)\u001b[0m\n\u001b[1;32m    273\u001b[0m \u001b[0;34m\u001b[0m\u001b[0m\n\u001b[1;32m    274\u001b[0m     \u001b[0;31m# Create the parser.\u001b[0m\u001b[0;34m\u001b[0m\u001b[0;34m\u001b[0m\u001b[0m\n\u001b[0;32m--> 275\u001b[0;31m     \u001b[0mparser\u001b[0m \u001b[0;34m=\u001b[0m \u001b[0mTextFileReader\u001b[0m\u001b[0;34m(\u001b[0m\u001b[0mfilepath_or_buffer\u001b[0m\u001b[0;34m,\u001b[0m \u001b[0;34m**\u001b[0m\u001b[0mkwds\u001b[0m\u001b[0;34m)\u001b[0m\u001b[0;34m\u001b[0m\u001b[0m\n\u001b[0m\u001b[1;32m    276\u001b[0m \u001b[0;34m\u001b[0m\u001b[0m\n\u001b[1;32m    277\u001b[0m     \u001b[0;32mif\u001b[0m \u001b[0;34m(\u001b[0m\u001b[0mnrows\u001b[0m \u001b[0;32mis\u001b[0m \u001b[0;32mnot\u001b[0m \u001b[0;32mNone\u001b[0m\u001b[0;34m)\u001b[0m \u001b[0;32mand\u001b[0m \u001b[0;34m(\u001b[0m\u001b[0mchunksize\u001b[0m \u001b[0;32mis\u001b[0m \u001b[0;32mnot\u001b[0m \u001b[0;32mNone\u001b[0m\u001b[0;34m)\u001b[0m\u001b[0;34m:\u001b[0m\u001b[0;34m\u001b[0m\u001b[0m\n",
      "\u001b[0;32m/Users/samhita/anaconda/lib/python3.5/site-packages/pandas/io/parsers.py\u001b[0m in \u001b[0;36m__init__\u001b[0;34m(self, f, engine, **kwds)\u001b[0m\n\u001b[1;32m    588\u001b[0m             \u001b[0mself\u001b[0m\u001b[0;34m.\u001b[0m\u001b[0moptions\u001b[0m\u001b[0;34m[\u001b[0m\u001b[0;34m'has_index_names'\u001b[0m\u001b[0;34m]\u001b[0m \u001b[0;34m=\u001b[0m \u001b[0mkwds\u001b[0m\u001b[0;34m[\u001b[0m\u001b[0;34m'has_index_names'\u001b[0m\u001b[0;34m]\u001b[0m\u001b[0;34m\u001b[0m\u001b[0m\n\u001b[1;32m    589\u001b[0m \u001b[0;34m\u001b[0m\u001b[0m\n\u001b[0;32m--> 590\u001b[0;31m         \u001b[0mself\u001b[0m\u001b[0;34m.\u001b[0m\u001b[0m_make_engine\u001b[0m\u001b[0;34m(\u001b[0m\u001b[0mself\u001b[0m\u001b[0;34m.\u001b[0m\u001b[0mengine\u001b[0m\u001b[0;34m)\u001b[0m\u001b[0;34m\u001b[0m\u001b[0m\n\u001b[0m\u001b[1;32m    591\u001b[0m \u001b[0;34m\u001b[0m\u001b[0m\n\u001b[1;32m    592\u001b[0m     \u001b[0;32mdef\u001b[0m \u001b[0m_get_options_with_defaults\u001b[0m\u001b[0;34m(\u001b[0m\u001b[0mself\u001b[0m\u001b[0;34m,\u001b[0m \u001b[0mengine\u001b[0m\u001b[0;34m)\u001b[0m\u001b[0;34m:\u001b[0m\u001b[0;34m\u001b[0m\u001b[0m\n",
      "\u001b[0;32m/Users/samhita/anaconda/lib/python3.5/site-packages/pandas/io/parsers.py\u001b[0m in \u001b[0;36m_make_engine\u001b[0;34m(self, engine)\u001b[0m\n\u001b[1;32m    729\u001b[0m     \u001b[0;32mdef\u001b[0m \u001b[0m_make_engine\u001b[0m\u001b[0;34m(\u001b[0m\u001b[0mself\u001b[0m\u001b[0;34m,\u001b[0m \u001b[0mengine\u001b[0m\u001b[0;34m=\u001b[0m\u001b[0;34m'c'\u001b[0m\u001b[0;34m)\u001b[0m\u001b[0;34m:\u001b[0m\u001b[0;34m\u001b[0m\u001b[0m\n\u001b[1;32m    730\u001b[0m         \u001b[0;32mif\u001b[0m \u001b[0mengine\u001b[0m \u001b[0;34m==\u001b[0m \u001b[0;34m'c'\u001b[0m\u001b[0;34m:\u001b[0m\u001b[0;34m\u001b[0m\u001b[0m\n\u001b[0;32m--> 731\u001b[0;31m             \u001b[0mself\u001b[0m\u001b[0;34m.\u001b[0m\u001b[0m_engine\u001b[0m \u001b[0;34m=\u001b[0m \u001b[0mCParserWrapper\u001b[0m\u001b[0;34m(\u001b[0m\u001b[0mself\u001b[0m\u001b[0;34m.\u001b[0m\u001b[0mf\u001b[0m\u001b[0;34m,\u001b[0m \u001b[0;34m**\u001b[0m\u001b[0mself\u001b[0m\u001b[0;34m.\u001b[0m\u001b[0moptions\u001b[0m\u001b[0;34m)\u001b[0m\u001b[0;34m\u001b[0m\u001b[0m\n\u001b[0m\u001b[1;32m    732\u001b[0m         \u001b[0;32melse\u001b[0m\u001b[0;34m:\u001b[0m\u001b[0;34m\u001b[0m\u001b[0m\n\u001b[1;32m    733\u001b[0m             \u001b[0;32mif\u001b[0m \u001b[0mengine\u001b[0m \u001b[0;34m==\u001b[0m \u001b[0;34m'python'\u001b[0m\u001b[0;34m:\u001b[0m\u001b[0;34m\u001b[0m\u001b[0m\n",
      "\u001b[0;32m/Users/samhita/anaconda/lib/python3.5/site-packages/pandas/io/parsers.py\u001b[0m in \u001b[0;36m__init__\u001b[0;34m(self, src, **kwds)\u001b[0m\n\u001b[1;32m   1101\u001b[0m         \u001b[0mkwds\u001b[0m\u001b[0;34m[\u001b[0m\u001b[0;34m'allow_leading_cols'\u001b[0m\u001b[0;34m]\u001b[0m \u001b[0;34m=\u001b[0m \u001b[0mself\u001b[0m\u001b[0;34m.\u001b[0m\u001b[0mindex_col\u001b[0m \u001b[0;32mis\u001b[0m \u001b[0;32mnot\u001b[0m \u001b[0;32mFalse\u001b[0m\u001b[0;34m\u001b[0m\u001b[0m\n\u001b[1;32m   1102\u001b[0m \u001b[0;34m\u001b[0m\u001b[0m\n\u001b[0;32m-> 1103\u001b[0;31m         \u001b[0mself\u001b[0m\u001b[0;34m.\u001b[0m\u001b[0m_reader\u001b[0m \u001b[0;34m=\u001b[0m \u001b[0m_parser\u001b[0m\u001b[0;34m.\u001b[0m\u001b[0mTextReader\u001b[0m\u001b[0;34m(\u001b[0m\u001b[0msrc\u001b[0m\u001b[0;34m,\u001b[0m \u001b[0;34m**\u001b[0m\u001b[0mkwds\u001b[0m\u001b[0;34m)\u001b[0m\u001b[0;34m\u001b[0m\u001b[0m\n\u001b[0m\u001b[1;32m   1104\u001b[0m \u001b[0;34m\u001b[0m\u001b[0m\n\u001b[1;32m   1105\u001b[0m         \u001b[0;31m# XXX\u001b[0m\u001b[0;34m\u001b[0m\u001b[0;34m\u001b[0m\u001b[0m\n",
      "\u001b[0;32mpandas/parser.pyx\u001b[0m in \u001b[0;36mpandas.parser.TextReader.__cinit__ (pandas/parser.c:3246)\u001b[0;34m()\u001b[0m\n",
      "\u001b[0;32mpandas/parser.pyx\u001b[0m in \u001b[0;36mpandas.parser.TextReader._setup_parser_source (pandas/parser.c:6111)\u001b[0;34m()\u001b[0m\n",
      "\u001b[0;31mOSError\u001b[0m: File b'email_senders.csv' does not exist"
     ]
    }
   ],
   "source": [
    "funds_comps_labeled = pd.read_csv('funds_comps_labeled.csv', 'w')\n",
    "\n",
    "\n",
    "\n",
    "email_senders = pd.read_csv('email_senders.csv', sep=',')\n",
    "print (email_senders.head(n=5))\n",
    "print (len(email_senders))"
   ]
  },
  {
   "cell_type": "code",
   "execution_count": null,
   "metadata": {
    "collapsed": true
   },
   "outputs": [],
   "source": []
  }
 ],
 "metadata": {
  "kernelspec": {
   "display_name": "Python 3",
   "language": "python",
   "name": "python3"
  },
  "language_info": {
   "codemirror_mode": {
    "name": "ipython",
    "version": 3
   },
   "file_extension": ".py",
   "mimetype": "text/x-python",
   "name": "python",
   "nbconvert_exporter": "python",
   "pygments_lexer": "ipython3",
   "version": "3.5.1"
  }
 },
 "nbformat": 4,
 "nbformat_minor": 0
}
