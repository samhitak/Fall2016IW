{
 "cells": [
  {
   "cell_type": "code",
   "execution_count": 1,
   "metadata": {
    "collapsed": true
   },
   "outputs": [],
   "source": [
    "%matplotlib inline\n",
    "\n",
    "import os\n",
    "import csv\n",
    "import pandas as pd\n",
    "import numpy as np\n",
    "import matplotlib\n",
    "import matplotlib.pyplot as plt\n",
    "import networkx as nx\n",
    "import sklearn as sk\n",
    "from sklearn.cluster import KMeans\n",
    "from sklearn.metrics import jaccard_similarity_score as jcs\n",
    "from scipy.sparse import csr_matrix\n",
    "from sklearn.metrics import roc_curve, auc"
   ]
  },
  {
   "cell_type": "code",
   "execution_count": 2,
   "metadata": {
    "collapsed": false
   },
   "outputs": [
    {
     "name": "stdout",
     "output_type": "stream",
     "text": [
      "                company_name country_code state_code   region     city  \\\n",
      "0          Undercover Colors          USA         NC  Raleigh  Raleigh   \n",
      "1                Agency Core          GBR        NaN   London   London   \n",
      "2                     Algama          FRA        NaN    Paris    Paris   \n",
      "3                     Bayzat          ARE        NaN    Dubai    Dubai   \n",
      "4  Blackmoon Financial Group          RUS        NaN   Moscow   Moscow   \n",
      "\n",
      "                               company_category_list funding_round_type  \\\n",
      "0                Fashion|Lifestyle|Social Innovation            venture   \n",
      "1    Business Intelligence|Cloud Computing|Real Time            venture   \n",
      "2  Biotechnology|Food and Beverage|Food Processin...            venture   \n",
      "3  Banking|Employee Benefits|Insurance|Price Comp...            venture   \n",
      "4                                            FinTech            venture   \n",
      "\n",
      "  funding_round_code announced_on  raised_amount_usd  \\\n",
      "0                NaN   2016-11-11     5500000.000000   \n",
      "1                NaN   2016-11-10                NaN   \n",
      "2                NaN   2016-11-10     3842564.637427   \n",
      "3                  B   2016-11-10     3500000.000000   \n",
      "4                NaN   2016-11-10     2500000.000000   \n",
      "\n",
      "              ...              post_money_valuation_usd post_money_valuation  \\\n",
      "0             ...                                   NaN                  NaN   \n",
      "1             ...                                   NaN                  NaN   \n",
      "2             ...                                   NaN                  NaN   \n",
      "3             ...                                   NaN                  NaN   \n",
      "4             ...                                   NaN                  NaN   \n",
      "\n",
      "   post_money_currency_code  investor_count  \\\n",
      "0                       NaN               0   \n",
      "1                       NaN               2   \n",
      "2                       NaN               1   \n",
      "3                       NaN               1   \n",
      "4                       NaN               3   \n",
      "\n",
      "                             investor_names  \\\n",
      "0                                       NaN   \n",
      "1      Scottish Investment Bank, Par Equity   \n",
      "2                  Lead - Horizons Ventures   \n",
      "3                       Lead - BECO Capital   \n",
      "4  Target Global, A&NN Group, Flint Capital   \n",
      "\n",
      "                                              cb_url  \\\n",
      "0  https://www.crunchbase.com/organization/underc...   \n",
      "1  https://www.crunchbase.com/organization/agency...   \n",
      "2     https://www.crunchbase.com/organization/algama   \n",
      "3     https://www.crunchbase.com/organization/bayzat   \n",
      "4  https://www.crunchbase.com/organization/blackm...   \n",
      "\n",
      "                           company_uuid                    funding_round_uuid  \\\n",
      "0  7fd0b3f2-d1e6-2776-88e4-09319f0c4c17  d683b550-e814-3508-a011-5c52e6f102b5   \n",
      "1  5c602d49-5cde-62e9-2fa0-f204e9254ea0  0977442d-c8a0-a6d3-522d-eb6492a68a19   \n",
      "2  12da7eda-8dda-1e74-0bb1-184b05a0a33b  173a39ef-b3d3-290a-fa5c-2b6a5d00ff5b   \n",
      "3  1a5a154c-f976-9cad-4565-9db29783b4db  6474b0a5-466f-1158-c31d-b30bcabdde32   \n",
      "4  6b79ee28-1bf4-7687-c0d9-2757d5143891  6d481aaf-6cc0-0c42-76ff-123f8dcb0d47   \n",
      "\n",
      "                   created_at                  updated_at  \n",
      "0  2016-06-07 04:23:00.916523  2016-11-11 04:04:29.856796  \n",
      "1  2016-11-10 10:45:04.302911   2016-11-10 15:17:18.27101  \n",
      "2  2016-11-11 04:48:15.655434  2016-11-11 04:50:22.069334  \n",
      "3   2016-11-11 04:23:33.82375  2016-11-11 04:28:27.153056  \n",
      "4  2016-11-10 08:50:53.325636  2016-11-11 03:55:05.256684  \n",
      "\n",
      "[5 rows x 25 columns]\n",
      "148333\n"
     ]
    }
   ],
   "source": [
    "data = pd.read_csv('csv_export/funding_rounds.csv')\n",
    "print (data.head(n=5))\n",
    "print (len(data))"
   ]
  },
  {
   "cell_type": "code",
   "execution_count": 3,
   "metadata": {
    "collapsed": false
   },
   "outputs": [
    {
     "name": "stdout",
     "output_type": "stream",
     "text": [
      "                company_name   region  \\\n",
      "0          Undercover Colors  Raleigh   \n",
      "1                Agency Core   London   \n",
      "2                     Algama    Paris   \n",
      "3                     Bayzat    Dubai   \n",
      "4  Blackmoon Financial Group   Moscow   \n",
      "\n",
      "                               company_category_list  raised_amount_usd  \\\n",
      "0                Fashion|Lifestyle|Social Innovation     5500000.000000   \n",
      "1    Business Intelligence|Cloud Computing|Real Time                NaN   \n",
      "2  Biotechnology|Food and Beverage|Food Processin...     3842564.637427   \n",
      "3  Banking|Employee Benefits|Insurance|Price Comp...     3500000.000000   \n",
      "4                                            FinTech     2500000.000000   \n",
      "\n",
      "   investor_count                            investor_names  \\\n",
      "0               0                                       NaN   \n",
      "1               2      Scottish Investment Bank, Par Equity   \n",
      "2               1                  Lead - Horizons Ventures   \n",
      "3               1                       Lead - BECO Capital   \n",
      "4               3  Target Global, A&NN Group, Flint Capital   \n",
      "\n",
      "                           company_uuid                    funding_round_uuid  \n",
      "0  7fd0b3f2-d1e6-2776-88e4-09319f0c4c17  d683b550-e814-3508-a011-5c52e6f102b5  \n",
      "1  5c602d49-5cde-62e9-2fa0-f204e9254ea0  0977442d-c8a0-a6d3-522d-eb6492a68a19  \n",
      "2  12da7eda-8dda-1e74-0bb1-184b05a0a33b  173a39ef-b3d3-290a-fa5c-2b6a5d00ff5b  \n",
      "3  1a5a154c-f976-9cad-4565-9db29783b4db  6474b0a5-466f-1158-c31d-b30bcabdde32  \n",
      "4  6b79ee28-1bf4-7687-c0d9-2757d5143891  6d481aaf-6cc0-0c42-76ff-123f8dcb0d47  \n"
     ]
    }
   ],
   "source": [
    "data = data.drop('created_at', 1)\n",
    "data = data.drop('updated_at', 1)\n",
    "data = data.drop('cb_url', 1)\n",
    "data = data.drop('post_money_currency_code', 1)\n",
    "data = data.drop('post_money_valuation_usd', 1)\n",
    "data = data.drop('post_money_valuation', 1)\n",
    "data = data.drop('funding_round_type', 1)\n",
    "data = data.drop('country_code', 1)\n",
    "data = data.drop('state_code', 1)\n",
    "data = data.drop('city', 1)\n",
    "data = data.drop('funding_round_code', 1)\n",
    "data = data.drop('announced_on', 1)\n",
    "data = data.drop('raised_amount', 1)\n",
    "data = data.drop('raised_amount_currency_code', 1)\n",
    "data = data.drop('target_money_raised_usd', 1)\n",
    "data = data.drop('target_money_raised', 1)\n",
    "data = data.drop('target_money_raised_currency_code', 1)\n",
    "\n",
    "print (data.head(n=5))"
   ]
  },
  {
   "cell_type": "code",
   "execution_count": 4,
   "metadata": {
    "collapsed": false
   },
   "outputs": [
    {
     "name": "stdout",
     "output_type": "stream",
     "text": [
      "                company_name       region  \\\n",
      "2                     Algama        Paris   \n",
      "3                     Bayzat        Dubai   \n",
      "4  Blackmoon Financial Group       Moscow   \n",
      "5             Cape Analytics  SF Bay Area   \n",
      "7                     Crayon       Boston   \n",
      "\n",
      "                               company_category_list  raised_amount_usd  \\\n",
      "2  Biotechnology|Food and Beverage|Food Processin...     3842564.637427   \n",
      "3  Banking|Employee Benefits|Insurance|Price Comp...     3500000.000000   \n",
      "4                                            FinTech     2500000.000000   \n",
      "5                             Information Technology    14000000.000000   \n",
      "7                          Marketing|SaaS|Web Design     3350000.000000   \n",
      "\n",
      "   investor_count                                     investor_names  \\\n",
      "2               1                           Lead - Horizons Ventures   \n",
      "3               1                                Lead - BECO Capital   \n",
      "4               3           Target Global, A&NN Group, Flint Capital   \n",
      "5               7  Lead - Formation 8, Promus Ventures, Montage V...   \n",
      "7               4  BoxGroup, Eric Paley, Converge Venture Partner...   \n",
      "\n",
      "                           company_uuid                    funding_round_uuid  \n",
      "2  12da7eda-8dda-1e74-0bb1-184b05a0a33b  173a39ef-b3d3-290a-fa5c-2b6a5d00ff5b  \n",
      "3  1a5a154c-f976-9cad-4565-9db29783b4db  6474b0a5-466f-1158-c31d-b30bcabdde32  \n",
      "4  6b79ee28-1bf4-7687-c0d9-2757d5143891  6d481aaf-6cc0-0c42-76ff-123f8dcb0d47  \n",
      "5  61a2d564-dc80-2a9d-928a-3af4d168a6d0  e916b33e-2518-7234-e9c8-5a585cd5a365  \n",
      "7  cd0da7f6-c6d8-eac6-ea11-3d18005f38ab  ba6d58d3-e3fc-0374-2c6c-3d20071059f9  \n",
      "75398\n"
     ]
    }
   ],
   "source": [
    "data = data[pd.notnull(data['raised_amount_usd'])]\n",
    "datafinal = data[pd.notnull(data['investor_names'])]\n",
    "print (datafinal.head(n=5))\n",
    "print (len(datafinal))"
   ]
  },
  {
   "cell_type": "code",
   "execution_count": null,
   "metadata": {
    "collapsed": true
   },
   "outputs": [],
   "source": []
  }
 ],
 "metadata": {
  "kernelspec": {
   "display_name": "Python 3",
   "language": "python",
   "name": "python3"
  },
  "language_info": {
   "codemirror_mode": {
    "name": "ipython",
    "version": 3
   },
   "file_extension": ".py",
   "mimetype": "text/x-python",
   "name": "python",
   "nbconvert_exporter": "python",
   "pygments_lexer": "ipython3",
   "version": "3.5.1"
  }
 },
 "nbformat": 4,
 "nbformat_minor": 0
}
